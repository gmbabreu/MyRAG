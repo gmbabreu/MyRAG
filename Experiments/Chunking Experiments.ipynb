{
 "cells": [
  {
   "cell_type": "code",
   "execution_count": 1,
   "id": "837b6896-3122-4065-9c5e-3bb3a6b5cf02",
   "metadata": {},
   "outputs": [],
   "source": [
    "from langchain_experimental.text_splitter import SemanticChunker\n",
    "from langchain_community.document_loaders import PDFPlumberLoader\n",
    "from langchain.text_splitter import RecursiveCharacterTextSplitter\n",
    "from langchain_ollama import OllamaEmbeddings"
   ]
  },
  {
   "cell_type": "code",
   "execution_count": 8,
   "id": "22f3b9af-91ca-4fd7-9b3e-fdcd52502769",
   "metadata": {},
   "outputs": [
    {
     "data": {
      "text/plain": [
       "10"
      ]
     },
     "execution_count": 8,
     "metadata": {},
     "output_type": "execute_result"
    }
   ],
   "source": [
    "# Recursive Splitter\n",
    "file_path = r\"C:/Users/gabreu/Desktop/MyRAG/data/tpil-q4-2023-investor-letter.pdf\"\n",
    "raw_docs = PDFPlumberLoader(file_path).load()\n",
    "\n",
    "text_processor = RecursiveCharacterTextSplitter(\n",
    "    chunk_size=1000,\n",
    "    chunk_overlap=200,\n",
    "    separators=[\"\\n\\n\", \"\\n\"],\n",
    "    add_start_index=True\n",
    ")\n",
    "chunks = text_processor.split_documents(raw_docs)\n",
    "\n",
    "text_chunks = [chunk.page_content for chunk in chunks]  # Extract strings\n",
    "len(text_chunks)"
   ]
  },
  {
   "cell_type": "code",
   "execution_count": 10,
   "id": "8344f1d1-8a89-46ef-b7de-75f30c00505a",
   "metadata": {},
   "outputs": [
    {
     "data": {
      "text/plain": [
       "8006"
      ]
     },
     "execution_count": 10,
     "metadata": {},
     "output_type": "execute_result"
    }
   ],
   "source": [
    "# Semantic Chunking\n",
    "text = \"\"\n",
    "for page_num in range(len(raw_docs)):\n",
    "        text += raw_docs[page_num].page_content\n",
    "\n",
    "EMBEDDING_MODEL = OllamaEmbeddings(\n",
    "    model=\"mxbai-embed-large\",\n",
    "    base_url=\"http://127.0.0.1:11434\"\n",
    ") \n",
    "text_splitter = SemanticChunker(\n",
    "    EMBEDDING_MODEL, breakpoint_threshold_type=\"percentile\"\n",
    ")\n",
    "docs = text_splitter.create_documents(text)\n",
    "len(docs)"
   ]
  },
  {
   "cell_type": "markdown",
   "id": "e44ee777-48ca-47c9-a68c-d38d8a2a3b2c",
   "metadata": {},
   "source": [
    "small-to-large chunking"
   ]
  }
 ],
 "metadata": {
  "kernelspec": {
   "display_name": "Python 3 (ipykernel)",
   "language": "python",
   "name": "python3"
  },
  "language_info": {
   "codemirror_mode": {
    "name": "ipython",
    "version": 3
   },
   "file_extension": ".py",
   "mimetype": "text/x-python",
   "name": "python",
   "nbconvert_exporter": "python",
   "pygments_lexer": "ipython3",
   "version": "3.11.5"
  }
 },
 "nbformat": 4,
 "nbformat_minor": 5
}
