{
 "cells": [
  {
   "cell_type": "code",
   "execution_count": 9,
   "id": "588351f3-1af8-4824-a1df-fdde5697a305",
   "metadata": {},
   "outputs": [],
   "source": [
    "import os\n",
    "from tqdm import tqdm\n",
    "from langchain_core.vectorstores import InMemoryVectorStore\n",
    "from langchain_ollama import OllamaEmbeddings\n",
    "from langchain_community.document_loaders import PDFPlumberLoader\n",
    "from langchain_text_splitters import RecursiveCharacterTextSplitter"
   ]
  },
  {
   "cell_type": "markdown",
   "id": "8f2f00e1-d0a9-4782-bb20-81e36056d659",
   "metadata": {},
   "source": [
    "Connect to Ollama and Embed"
   ]
  },
  {
   "cell_type": "code",
   "execution_count": 2,
   "id": "a8176b73-4c56-4139-8add-620a1fce5eb8",
   "metadata": {},
   "outputs": [
    {
     "name": "stdout",
     "output_type": "stream",
     "text": [
      "NAME                        ID              SIZE      MODIFIED   \n",
      "mxbai-embed-large:latest    468836162de7    669 MB    8 days ago    \n",
      "deepseek-r1:7b              0a8c26691023    4.7 GB    8 days ago    \n",
      "deepseek-r1:1.5b            a42b25d8c10a    1.1 GB    8 days ago    \n",
      "llama2:latest               78e26419b446    3.8 GB    8 days ago    \n",
      "nomic-embed-text:latest     0a109f422b47    274 MB    8 days ago    \n"
     ]
    },
    {
     "name": "stderr",
     "output_type": "stream",
     "text": [
      "  % Total    % Received % Xferd  Average Speed   Time    Time     Time  Current\n",
      "                                 Dload  Upload   Total   Spent    Left  Speed\n",
      "\n",
      "  0     0    0     0    0     0      0      0 --:--:-- --:--:-- --:--:--     0\n",
      "100    63    0     0  100    63      0     51  0:00:01  0:00:01 --:--:--    51\n",
      "100    63    0     0  100    63      0     28  0:00:02  0:00:02 --:--:--    28\n",
      "100   107  100    44  100    63     14     21  0:00:03  0:00:02  0:00:01    36\n",
      "100   107  100    44  100    63     14     21  0:00:03  0:00:02  0:00:01    36\n"
     ]
    },
    {
     "name": "stdout",
     "output_type": "stream",
     "text": [
      "{\"model\":\"deepseek-r1:1.5b\",\"embeddings\":[]}\n"
     ]
    }
   ],
   "source": [
    "!ollama list\n",
    "!curl -X POST http://localhost:11434/api/embed -H \"Content-Type: application/json\" -d \"{\\\"model\\\": \\\"deepseek-r1:1.5b\\\", \\\"prompt\\\": \\\"Why is the sky blue?\\\"}\""
   ]
  },
  {
   "cell_type": "code",
   "execution_count": 10,
   "id": "e77caa4f-c6f2-46e3-87db-eb8346109451",
   "metadata": {},
   "outputs": [],
   "source": [
    "EMBEDDING_MODEL = OllamaEmbeddings(\n",
    "    model=\"mxbai-embed-large\",\n",
    "    base_url=\"http://127.0.0.1:11434\"\n",
    ") \n",
    "DOCUMENT_VECTOR_DB = InMemoryVectorStore(EMBEDDING_MODEL)  # Vector database\n",
    "\n",
    "# Splits the document into chunks\n",
    "def chunk_documents(raw_documents):\n",
    "    text_processor = RecursiveCharacterTextSplitter(\n",
    "        chunk_size=1000,\n",
    "        chunk_overlap=200,\n",
    "        add_start_index=True\n",
    "    )\n",
    "    return text_processor.split_documents(raw_documents)\n",
    "\n",
    "# embed a given document\n",
    "def embed(filed_path):\n",
    "    # Loading into PDFPlumber\n",
    "    raw_docs = PDFPlumberLoader(filed_path).load()\n",
    "    \n",
    "    # Chunk and index\n",
    "    processed_chunks = chunk_documents(raw_docs)\n",
    "    DOCUMENT_VECTOR_DB.add_documents(processed_chunks)\n",
    "    return len(processed_chunks)\n",
    "    \n",
    "def simple(folder_path):\n",
    "    # Get all PDF files in the folder\n",
    "    pdf_files = [os.path.join(folder_path, f) for f in os.listdir(folder_path) if f.endswith(\".pdf\")]\n",
    "   \n",
    "    # Process each PDF file\n",
    "    for file_path in tqdm(pdf_files):\n",
    "        embed(file_path)\n",
    "\n",
    "def retrieve(query,search_type=\"similarity\", k=5):\n",
    "    # Retrieve related documents with similarity search\n",
    "    relevant_docs = DOCUMENT_VECTOR_DB.search(query,search_type=search_type, k=k)\n",
    "    return relevant_docs"
   ]
  },
  {
   "cell_type": "code",
   "execution_count": 11,
   "id": "4a583110-05eb-45e0-9207-f384d50e64e2",
   "metadata": {},
   "outputs": [
    {
     "name": "stdout",
     "output_type": "stream",
     "text": [
      "CPU times: total: 0 ns\n",
      "Wall time: 0 ns\n"
     ]
    },
    {
     "name": "stderr",
     "output_type": "stream",
     "text": [
      "100%|████████████████████████████████████████████████████████████████████████████████████| 6/6 [05:29<00:00, 54.88s/it]\n"
     ]
    }
   ],
   "source": [
    "%time\n",
    "folder_path = r\"C:/Users/gabreu/Desktop/MyRAG/data\"\n",
    "simple(folder_path)"
   ]
  },
  {
   "cell_type": "code",
   "execution_count": 13,
   "id": "a48f5ab9-1146-466b-bfad-ed79de5ed5b3",
   "metadata": {},
   "outputs": [
    {
     "name": "stdout",
     "output_type": "stream",
     "text": [
      "CPU times: total: 15.6 ms\n",
      "Wall time: 187 ms\n"
     ]
    },
    {
     "data": {
      "text/plain": [
       "[Document(id='e692f0f7-a180-43a5-b9f1-ac85684310bd', metadata={'source': 'C:/Users/gabreu/Desktop/MyRAG/data\\\\third-point-q1-2024-investor-letter_tpil.pdf', 'file_path': 'C:/Users/gabreu/Desktop/MyRAG/data\\\\third-point-q1-2024-investor-letter_tpil.pdf', 'page': 2, 'total_pages': 12, 'Author': 'Monique Devos', 'Creator': 'Microsoft® Word for Microsoft 365', 'CreationDate': \"D:20240430115608-04'00'\", 'ModDate': \"D:20240430115608-04'00'\", 'Producer': 'Microsoft® Word for Microsoft 365', 'start_index': 795}, page_content='company TXU in 2014, have become commonplace in the sector over the last decade.\\nIn response to this challenging environment, we believe Vistra’s capital allocation strategy\\nhas been brilliant. The company shut down unprofitable coal plants to improve its carbon\\nfootprint and mitigate oversupply. Given the market was valuing its remaining gas assets at\\npennies on the dollar relative to the cost of new builds, management patiently invested in\\nmaintaining the existing fleet and deployed excess cash flow into share purchases, reducing\\nits share count by ~33% from 2018 to 2023 at an average purchase price of about 1/3 of\\ncurrent trading levels.\\nIn March of 2023, Vistra made its latest smart capital allocation move, acquiring the nuclear\\ngeneration assets of Energy Harbor (yet another bankrupt IPP), which served as the catalyst\\nfor Third Point acquiring shares. The timing of this deal was prescient, as nuclear is finally'),\n",
       " Document(id='064c029e-ab67-40e0-88cc-2a4d3bd24381', metadata={'source': 'C:/Users/gabreu/Desktop/MyRAG/data\\\\third-point-q1-2024-investor-letter_tpil.pdf', 'file_path': 'C:/Users/gabreu/Desktop/MyRAG/data\\\\third-point-q1-2024-investor-letter_tpil.pdf', 'page': 0, 'total_pages': 12, 'Author': 'Monique Devos', 'Creator': 'Microsoft® Word for Microsoft 365', 'CreationDate': \"D:20240430115608-04'00'\", 'ModDate': \"D:20240430115608-04'00'\", 'Producer': 'Microsoft® Word for Microsoft 365', 'start_index': 825}, page_content='and Vistra. Just as during COVID when everyone became an expert in virology, today you\\nwould be hard pressed to find an investor who does not have a complex view on “macro.”\\nLast week was a good example of equity investors’ currently mercurial nature, with the\\nmarket experiencing sharp swings based on interpretations of noisy and inconclusive\\nPage 1'),\n",
       " Document(id='8575f1f6-6450-4775-9276-653da7efdc43', metadata={'source': 'C:/Users/gabreu/Desktop/MyRAG/data\\\\third-point-q1-2024-investor-letter_tpil.pdf', 'file_path': 'C:/Users/gabreu/Desktop/MyRAG/data\\\\third-point-q1-2024-investor-letter_tpil.pdf', 'page': 8, 'total_pages': 12, 'Author': 'Monique Devos', 'Creator': 'Microsoft® Word for Microsoft 365', 'CreationDate': \"D:20240430115608-04'00'\", 'ModDate': \"D:20240430115608-04'00'\", 'Producer': 'Microsoft® Word for Microsoft 365', 'start_index': 0}, page_content='strategic plans to course correct the business. Advance operates in the highly attractive auto\\naftermarket industry, which has proven resilient in various consumer cycles and is currently\\nsupported by increasing vehicle complexity, a growing and aging carpark, and supply and\\naffordability challenges.\\nWhile Advance has significantly underperformed peers across key KPIs over the past several\\nyears, our work suggests that many of these shortcomings aren’t structural. Feedback has\\nbeen consistent that while the Advance brand is strong, a lack of relevant industry\\nexperience in key roles has led to years of inconsistent execution that has snowballed over\\ntime. We are confident that a portion of the performance gap vs. peers can be closed with\\nnew leadership and advisors in place.\\nKey to the turnaround is CEO Shane O’Kelly, who is known as a disciplined, motivated, and\\nproven leader with experience in similar industries. Following engagement with Third Point,'),\n",
       " Document(id='d2cbb4bb-a33d-4924-a69d-6a6252d2284e', metadata={'source': 'C:/Users/gabreu/Desktop/MyRAG/data\\\\third-point-q1-2024-investor-letter_tpil.pdf', 'file_path': 'C:/Users/gabreu/Desktop/MyRAG/data\\\\third-point-q1-2024-investor-letter_tpil.pdf', 'page': 1, 'total_pages': 12, 'Author': 'Monique Devos', 'Creator': 'Microsoft® Word for Microsoft 365', 'CreationDate': \"D:20240430115608-04'00'\", 'ModDate': \"D:20240430115608-04'00'\", 'Producer': 'Microsoft® Word for Microsoft 365', 'start_index': 1542}, page_content='materials and energy companies as demand for infrastructure and certain commodities\\nsurges. In the category of “better to be lucky than smart,” below we also share how a deep\\nvalue name we acquired for its capital allocation and attractive valuation became an AI\\ndarling.\\nVistra\\nVistra is one of the largest independent power producers (“IPPs”) and retail electricity\\nproviders in the country. In 2023, Vistra’s natural gas, nuclear and coal plants generated\\nover 20% of electricity consumed in Texas.\\nPage 2'),\n",
       " Document(id='87866f56-6a70-4828-b1fa-2eecf4c3f889', metadata={'source': 'C:/Users/gabreu/Desktop/MyRAG/data\\\\2024-Q1-PVP-Investor-Letter.pdf', 'file_path': 'C:/Users/gabreu/Desktop/MyRAG/data\\\\2024-Q1-PVP-Investor-Letter.pdf', 'page': 6, 'total_pages': 9, 'Author': 'Manoj Tandon', 'CreationDate': \"D:20240418171241-04'00'\", 'ModDate': \"D:20240418171241-04'00'\", 'Producer': 'Microsoft: Print To PDF', 'Title': 'Microsoft Word - PVP Investor Letter 24Q1', 'start_index': 2446}, page_content='run in 2023. INTC recently disclosed the margin profile of the Foundry segment, and the market reacted\\nnegatively to its guidance that the Foundry business will not break even until 2027. Although we continue to\\nsee unrealized intrinsic value at INTC and see the need to manufacture advanced chips in the US and Western\\nEurope to mitigate China-related risks, the short-term nature of the market has led to an overemphasis on\\nFoundry’s current losses.\\nIn Utilities, Vistra (VST) was up 81% for the quarter after being up 66% last year. We exited our position in VST\\ntoward the end of February at around $51 as we discussed above, missing the last of a phenomenal rally in the\\nshares. Nevertheless, VST was an excellent investment for our clients.\\nIn Diversified Value, we initiated a position in Veralto (VLTO), a 2023 spin-off from Danaher. The Company\\nprovides water resource management by helping municipal and private wastewater facilities treat, purify, and')]"
      ]
     },
     "execution_count": 13,
     "metadata": {},
     "output_type": "execute_result"
    }
   ],
   "source": [
    "%%time\n",
    "# Query\n",
    "retrieve(\"Outline any discussion on Vistra from different managers\")"
   ]
  },
  {
   "cell_type": "markdown",
   "id": "7d3ab257-96b3-49be-bb14-1746d50e97fe",
   "metadata": {},
   "source": [
    "Experiment: retrieve the correct chunck"
   ]
  },
  {
   "cell_type": "code",
   "execution_count": 11,
   "id": "0fa6fd47-8c2e-4086-9560-d796f6191b9c",
   "metadata": {},
   "outputs": [
    {
     "name": "stdout",
     "output_type": "stream",
     "text": [
      "similarity\n",
      "True\n",
      "True\n",
      "True\n",
      "True\n",
      "True\n",
      "mmr\n",
      "False\n",
      "False\n",
      "False\n",
      "False\n",
      "False\n"
     ]
    }
   ],
   "source": [
    "# Experiment\n",
    "chunk_id = retrieve(\"William Song, left the firm earlier in February\")[0].id\n",
    "\n",
    "search_types = [\"similarity\", \"mmr\"]\n",
    "\n",
    "queries = [\"Who left?\",\n",
    "           \"Who left the firm in February?\",\n",
    "           \"Who left the firm?\",\n",
    "           \"Who left third point?\",\n",
    "           \"Who left third point in February?\"]\n",
    "\n",
    "# experiment for different promprs and search methods\n",
    "for s in search_types:\n",
    "    print(s)\n",
    "    for q in queries:\n",
    "        ids = [doc.id for doc in retrieve(q, s, 2)]\n",
    "        print(chunk_id in ids)"
   ]
  },
  {
   "cell_type": "code",
   "execution_count": 14,
   "id": "84d4316b-d97a-41dc-a41c-7af934ea7807",
   "metadata": {},
   "outputs": [
    {
     "name": "stdout",
     "output_type": "stream",
     "text": [
      "False\n",
      "False\n",
      "False\n",
      "False\n",
      "False\n"
     ]
    }
   ],
   "source": [
    "# Try max marginal relevance\n",
    "for q in queries:\n",
    "    ids = [doc.id for doc in retrieve_max(q, 3)]\n",
    "    print(chunk_id in ids)"
   ]
  },
  {
   "cell_type": "raw",
   "id": "08fcb5df-4360-4310-9bea-a677bad2673f",
   "metadata": {},
   "source": [
    "Look into, lama-index, r2r"
   ]
  }
 ],
 "metadata": {
  "kernelspec": {
   "display_name": "Python 3 (ipykernel)",
   "language": "python",
   "name": "python3"
  },
  "language_info": {
   "codemirror_mode": {
    "name": "ipython",
    "version": 3
   },
   "file_extension": ".py",
   "mimetype": "text/x-python",
   "name": "python",
   "nbconvert_exporter": "python",
   "pygments_lexer": "ipython3",
   "version": "3.11.5"
  }
 },
 "nbformat": 4,
 "nbformat_minor": 5
}
