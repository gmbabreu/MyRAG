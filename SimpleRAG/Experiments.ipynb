{
 "cells": [
  {
   "cell_type": "code",
   "execution_count": 1,
   "id": "588351f3-1af8-4824-a1df-fdde5697a305",
   "metadata": {},
   "outputs": [
    {
     "ename": "ModuleNotFoundError",
     "evalue": "No module named 'langchain_core'",
     "output_type": "error",
     "traceback": [
      "\u001b[1;31m---------------------------------------------------------------------------\u001b[0m",
      "\u001b[1;31mModuleNotFoundError\u001b[0m                       Traceback (most recent call last)",
      "Cell \u001b[1;32mIn[1], line 1\u001b[0m\n\u001b[1;32m----> 1\u001b[0m \u001b[38;5;28;01mfrom\u001b[39;00m \u001b[38;5;21;01mlangchain_core\u001b[39;00m\u001b[38;5;21;01m.\u001b[39;00m\u001b[38;5;21;01mvectorstores\u001b[39;00m \u001b[38;5;28;01mimport\u001b[39;00m InMemoryVectorStore\n\u001b[0;32m      2\u001b[0m \u001b[38;5;28;01mfrom\u001b[39;00m \u001b[38;5;21;01mlangchain_ollama\u001b[39;00m \u001b[38;5;28;01mimport\u001b[39;00m OllamaEmbeddings\n\u001b[0;32m      3\u001b[0m \u001b[38;5;28;01mfrom\u001b[39;00m \u001b[38;5;21;01mlangchain_community\u001b[39;00m\u001b[38;5;21;01m.\u001b[39;00m\u001b[38;5;21;01mdocument_loaders\u001b[39;00m \u001b[38;5;28;01mimport\u001b[39;00m PDFPlumberLoader\n",
      "\u001b[1;31mModuleNotFoundError\u001b[0m: No module named 'langchain_core'"
     ]
    }
   ],
   "source": [
    "from langchain_core.vectorstores import InMemoryVectorStore\n",
    "from langchain_ollama import OllamaEmbeddings\n",
    "from langchain_community.document_loaders import PDFPlumberLoader\n",
    "from langchain_text_splitters import RecursiveCharacterTextSplitter"
   ]
  },
  {
   "cell_type": "markdown",
   "id": "8f2f00e1-d0a9-4782-bb20-81e36056d659",
   "metadata": {},
   "source": [
    "Connect to Ollama and Embed"
   ]
  },
  {
   "cell_type": "code",
   "execution_count": 2,
   "id": "a8176b73-4c56-4139-8add-620a1fce5eb8",
   "metadata": {},
   "outputs": [
    {
     "name": "stdout",
     "output_type": "stream",
     "text": [
      "{\"model\":\"deepseek-r1:1.5b\",\"embeddings\":[]}\n"
     ]
    },
    {
     "name": "stderr",
     "output_type": "stream",
     "text": [
      "  % Total    % Received % Xferd  Average Speed   Time    Time     Time  Current\n",
      "                                 Dload  Upload   Total   Spent    Left  Speed\n",
      "\n",
      "  0     0    0     0    0     0      0      0 --:--:-- --:--:-- --:--:--     0\n",
      "100    63    0     0  100    63      0     51  0:00:01  0:00:01 --:--:--    51\n",
      "100    63    0     0  100    63      0     28  0:00:02  0:00:02 --:--:--    28\n",
      "100   107  100    44  100    63     16     23  0:00:02  0:00:02 --:--:--    40\n",
      "100   107  100    44  100    63     16     23  0:00:02  0:00:02 --:--:--    40\n"
     ]
    }
   ],
   "source": [
    "!curl -X POST http://localhost:11434/api/embed -H \"Content-Type: application/json\" -d \"{\\\"model\\\": \\\"deepseek-r1:1.5b\\\", \\\"prompt\\\": \\\"Why is the sky blue?\\\"}\""
   ]
  },
  {
   "cell_type": "code",
   "execution_count": 3,
   "id": "5a9367a6-beb2-4a31-af69-f135d87e33df",
   "metadata": {},
   "outputs": [
    {
     "name": "stdout",
     "output_type": "stream",
     "text": [
      "NAME                        ID              SIZE      MODIFIED     \n",
      "mxbai-embed-large:latest    468836162de7    669 MB    16 hours ago    \n",
      "deepseek-r1:1.5b            a42b25d8c10a    1.1 GB    17 hours ago    \n",
      "deepseek-r1:7b              0a8c26691023    4.7 GB    17 hours ago    \n",
      "llama2:latest               78e26419b446    3.8 GB    17 hours ago    \n",
      "nomic-embed-text:latest     0a109f422b47    274 MB    17 hours ago    \n"
     ]
    }
   ],
   "source": [
    "!ollama list"
   ]
  },
  {
   "cell_type": "code",
   "execution_count": 4,
   "id": "e77caa4f-c6f2-46e3-87db-eb8346109451",
   "metadata": {},
   "outputs": [],
   "source": [
    "EMBEDDING_MODEL = OllamaEmbeddings(\n",
    "    model=\"mxbai-embed-large\",\n",
    "    base_url=\"http://127.0.0.1:11434\"\n",
    ") \n",
    "DOCUMENT_VECTOR_DB = InMemoryVectorStore(EMBEDDING_MODEL)  # Vector database\n",
    "\n",
    "# Splits the document into chunks\n",
    "def chunk_documents(raw_documents):\n",
    "    text_processor = RecursiveCharacterTextSplitter(\n",
    "        chunk_size=1000,\n",
    "        chunk_overlap=200,\n",
    "        add_start_index=True\n",
    "    )\n",
    "    return text_processor.split_documents(raw_documents)\n",
    "\n",
    "# embed a given document\n",
    "def embed(filed_path):\n",
    "    # Loading into PDFPlumber\n",
    "    raw_docs = PDFPlumberLoader(filed_path).load()\n",
    "    \n",
    "    # Chunk and index\n",
    "    processed_chunks = chunk_documents(raw_docs)\n",
    "    DOCUMENT_VECTOR_DB.add_documents(processed_chunks)\n",
    "    return len(processed_chunks)"
   ]
  },
  {
   "cell_type": "code",
   "execution_count": 5,
   "id": "25f57046-fdb1-498b-96a6-fb506262210b",
   "metadata": {},
   "outputs": [],
   "source": [
    "def retrieve(query,search_type=\"similarity\", k=1):\n",
    "    # Retrieve related documents with similarity search\n",
    "    relevant_docs = DOCUMENT_VECTOR_DB.search(query,search_type=search_type, k=k)\n",
    "    return relevant_docs\n",
    "\n",
    "def retrieve_max(query, k=1):\n",
    "    # Retrieve related documents with similarity search\n",
    "    relevant_docs = DOCUMENT_VECTOR_DB.max_marginal_relevance_search(query, k=k)\n",
    "    return relevant_docs"
   ]
  },
  {
   "cell_type": "code",
   "execution_count": 6,
   "id": "4a583110-05eb-45e0-9207-f384d50e64e2",
   "metadata": {},
   "outputs": [
    {
     "name": "stdout",
     "output_type": "stream",
     "text": [
      "CPU times: total: 734 ms\n",
      "Wall time: 18.5 s\n"
     ]
    },
    {
     "data": {
      "text/plain": [
       "10"
      ]
     },
     "execution_count": 6,
     "metadata": {},
     "output_type": "execute_result"
    }
   ],
   "source": [
    "%%time\n",
    "\n",
    "# Embed the docs\n",
    "filed_path = r\"C:/Users/gabreu/Desktop/MyRAG/data/tpil-q4-2023-investor-letter.pdf\"\n",
    "embed(filed_path)"
   ]
  },
  {
   "cell_type": "markdown",
   "id": "7d3ab257-96b3-49be-bb14-1746d50e97fe",
   "metadata": {},
   "source": [
    "Experiment: retrieve the correct chunck"
   ]
  },
  {
   "cell_type": "code",
   "execution_count": 7,
   "id": "3cc5f955-8f67-47f6-a670-aab2d51defdf",
   "metadata": {},
   "outputs": [
    {
     "data": {
      "text/plain": [
       "[Document(id='a75e58c0-e2bf-4e43-8ac9-992d68fa1838', metadata={'source': 'C:/Users/gabreu/Desktop/MyRAG/data/tpil-q4-2023-investor-letter.pdf', 'file_path': 'C:/Users/gabreu/Desktop/MyRAG/data/tpil-q4-2023-investor-letter.pdf', 'page': 1, 'total_pages': 3, 'Author': 'Ryan Holland', 'Comments': '', 'Company': '', 'CreationDate': \"D:20240215083529-05'00'\", 'Creator': 'Acrobat PDFMaker 23 for Word', 'Keywords': '', 'ModDate': \"D:20240215083531-05'00'\", 'Producer': 'Adobe PDF Library 23.8.53', 'SourceModified': 'D:20240215064828', 'Subject': '', 'Title': '', 'start_index': 1680}, page_content='expects to see a strong bid for these assets as more investors seek them out.\\nBusiness Update - Senior Appointments at the Investment Manager\\n• Third Point’s Chief Compliance Officer, William Song, left the firm earlier in February. Over the\\npast fifteen years, Will created and oversaw a robust compliance program, drawing on his\\nprior experience at the Securities & Exchange Commission. Will stayed on through February\\nto transition his responsibilities to his Deputy, Jana Tsilman, who has served in that role since\\n2017. We welcome Jana to her new role as Chief Compliance Offer.\\n• Chief Marketing Officer Jenny Wood left the firm at the end of 2023, marking the culmination\\nof an orderly transition following her decision to leave earlier in the year. Jenny’s IR\\nresponsibilities have been assumed by Ryan Holland, Head of Investor Relations, who joined\\nus in 2020. On the Marketing side, Rich Arbucci, who has led private wealth marketing since')]"
      ]
     },
     "execution_count": 7,
     "metadata": {},
     "output_type": "execute_result"
    }
   ],
   "source": [
    "# Chunk we want to retrieve\n",
    "retrieve(\"William Song, left the firm earlier in February\")"
   ]
  },
  {
   "cell_type": "code",
   "execution_count": 11,
   "id": "0fa6fd47-8c2e-4086-9560-d796f6191b9c",
   "metadata": {},
   "outputs": [
    {
     "name": "stdout",
     "output_type": "stream",
     "text": [
      "similarity\n",
      "True\n",
      "True\n",
      "True\n",
      "True\n",
      "True\n",
      "mmr\n",
      "False\n",
      "False\n",
      "False\n",
      "False\n",
      "False\n"
     ]
    }
   ],
   "source": [
    "# Experiment\n",
    "chunk_id = retrieve(\"William Song, left the firm earlier in February\")[0].id\n",
    "\n",
    "search_types = [\"similarity\", \"mmr\"]\n",
    "\n",
    "queries = [\"Who left?\",\n",
    "           \"Who left the firm in February?\",\n",
    "           \"Who left the firm?\",\n",
    "           \"Who left third point?\",\n",
    "           \"Who left third point in February?\"]\n",
    "\n",
    "# experiment for different promprs and search methods\n",
    "for s in search_types:\n",
    "    print(s)\n",
    "    for q in queries:\n",
    "        ids = [doc.id for doc in retrieve(q, s, 2)]\n",
    "        print(chunk_id in ids)"
   ]
  },
  {
   "cell_type": "code",
   "execution_count": 14,
   "id": "84d4316b-d97a-41dc-a41c-7af934ea7807",
   "metadata": {},
   "outputs": [
    {
     "name": "stdout",
     "output_type": "stream",
     "text": [
      "False\n",
      "False\n",
      "False\n",
      "False\n",
      "False\n"
     ]
    }
   ],
   "source": [
    "# Try max marginal relevance\n",
    "for q in queries:\n",
    "    ids = [doc.id for doc in retrieve_max(q, 3)]\n",
    "    print(chunk_id in ids)"
   ]
  },
  {
   "cell_type": "raw",
   "id": "08fcb5df-4360-4310-9bea-a677bad2673f",
   "metadata": {},
   "source": [
    "Look into, lama-index, r2r"
   ]
  }
 ],
 "metadata": {
  "kernelspec": {
   "display_name": "Python 3 (ipykernel)",
   "language": "python",
   "name": "python3"
  },
  "language_info": {
   "codemirror_mode": {
    "name": "ipython",
    "version": 3
   },
   "file_extension": ".py",
   "mimetype": "text/x-python",
   "name": "python",
   "nbconvert_exporter": "python",
   "pygments_lexer": "ipython3",
   "version": "3.11.5"
  }
 },
 "nbformat": 4,
 "nbformat_minor": 5
}
